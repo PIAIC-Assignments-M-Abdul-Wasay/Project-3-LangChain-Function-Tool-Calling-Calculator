{
  "nbformat": 4,
  "nbformat_minor": 0,
  "metadata": {
    "colab": {
      "provenance": []
    },
    "kernelspec": {
      "name": "python3",
      "display_name": "Python 3"
    },
    "language_info": {
      "name": "python"
    }
  },
  "cells": [
    {
      "cell_type": "markdown",
      "source": [
        "# **Fetch the API key**"
      ],
      "metadata": {
        "id": "zfozeYuhDqFE"
      }
    },
    {
      "cell_type": "code",
      "source": [
        "from google.colab import userdata\n",
        "GOOGLE_API_KEY=userdata.get(\"GOOGLE_API_KEY\")\n",
        "if GOOGLE_API_KEY:\n",
        "  print(\"API FETCHED\")\n",
        "else:\n",
        "  print(\"Error\")"
      ],
      "metadata": {
        "colab": {
          "base_uri": "https://localhost:8080/"
        },
        "id": "3-T-x-CjxrWs",
        "outputId": "8089350f-a357-4bf7-de6d-e83b8fd3061c"
      },
      "execution_count": 36,
      "outputs": [
        {
          "output_type": "stream",
          "name": "stdout",
          "text": [
            "API FETCHED\n"
          ]
        }
      ]
    },
    {
      "cell_type": "markdown",
      "source": [
        "# **Set the environment**"
      ],
      "metadata": {
        "id": "XuHy9lcCDsjN"
      }
    },
    {
      "cell_type": "code",
      "source": [
        "import os\n",
        "os.environ[\"GOOGLE_API_KEY\"] =GOOGLE_API_KEY\n"
      ],
      "metadata": {
        "id": "ZsbrB4PCzFV8"
      },
      "execution_count": 37,
      "outputs": []
    },
    {
      "cell_type": "markdown",
      "source": [
        "# **Define a Calculator Function**"
      ],
      "metadata": {
        "id": "Ms5chVlGDvnt"
      }
    },
    {
      "cell_type": "code",
      "source": [
        "def calculator(expression: str) -> str:\n",
        "\n",
        "    # Use Python's eval to compute the result safely\n",
        "    result = eval(expression)\n",
        "    return str(result)\n"
      ],
      "metadata": {
        "id": "U6WDes2Qx37b"
      },
      "execution_count": 60,
      "outputs": []
    },
    {
      "cell_type": "markdown",
      "source": [
        "# **Define a Reply function to the input (hi) but with the wrong response , to check how the model interacts with this tool**"
      ],
      "metadata": {
        "id": "SS_H20HIDzLH"
      }
    },
    {
      "cell_type": "code",
      "source": [
        "def reply(expression:str)->str:\n",
        "\n",
        "  if expression=='hi' or 'hello':\n",
        "    return 'klzg'\n",
        "  return expression"
      ],
      "metadata": {
        "id": "lgA2WnR-CZ_Y"
      },
      "execution_count": 67,
      "outputs": []
    },
    {
      "cell_type": "markdown",
      "source": [
        "# **Add the functions as a Tool using langchain agents**"
      ],
      "metadata": {
        "id": "aUoBLd-9D-4z"
      }
    },
    {
      "cell_type": "code",
      "source": [
        "from langchain.agents import Tool\n",
        "\n",
        "calculator_tool = Tool(\n",
        "    name=\"calculator\",  # Name of the tool\n",
        "    func=calculator,  # Function to call\n",
        "    description=\"This tool can evaluate mathematical expressions\",  # Tool description\n",
        ")"
      ],
      "metadata": {
        "id": "1ZqxxRk12bV_"
      },
      "execution_count": 61,
      "outputs": []
    },
    {
      "cell_type": "code",
      "source": [
        "reply_tool=Tool(\n",
        "    name='reply',\n",
        "    func=reply,\n",
        "    description='this tool can reply',\n",
        ")"
      ],
      "metadata": {
        "id": "n8fAl6HnCmLx"
      },
      "execution_count": 68,
      "outputs": []
    },
    {
      "cell_type": "markdown",
      "source": [
        "# **Configure a Google Model**"
      ],
      "metadata": {
        "id": "xL84BEsoEFDY"
      }
    },
    {
      "cell_type": "code",
      "source": [
        "from langchain_google_genai import ChatGoogleGenerativeAI\n",
        "\n",
        "gemini_model = ChatGoogleGenerativeAI(model=\"gemini-2.0-flash-exp\")\n"
      ],
      "metadata": {
        "id": "wKT8ShQwy5U6"
      },
      "execution_count": 62,
      "outputs": []
    },
    {
      "cell_type": "markdown",
      "source": [
        "# **Initialize the Agent**"
      ],
      "metadata": {
        "id": "_JAg1vhxEPIy"
      }
    },
    {
      "cell_type": "code",
      "source": [
        "from langchain.agents import initialize_agent, AgentType\n",
        "\n",
        "tools = [calculator_tool,reply_tool]  # Use the wrapped tool\n",
        "\n",
        "agent = initialize_agent(\n",
        "    tools=tools,\n",
        "    llm=gemini_model,\n",
        "    agent_type=AgentType.ZERO_SHOT_REACT_DESCRIPTION,\n",
        "    verbose=True\n",
        ")\n"
      ],
      "metadata": {
        "id": "3nuibYVpy7od"
      },
      "execution_count": 69,
      "outputs": []
    },
    {
      "cell_type": "markdown",
      "source": [
        "# **Execute the agent with a user input**"
      ],
      "metadata": {
        "id": "RG_lvAjLESDt"
      }
    },
    {
      "cell_type": "code",
      "source": [
        "user_input = \"What is the result of 15 divided by 3?\"\n",
        "response = agent.run(user_input)\n",
        "print(response)\n"
      ],
      "metadata": {
        "colab": {
          "base_uri": "https://localhost:8080/"
        },
        "id": "BCYzAYHFEZhu",
        "outputId": "60ee4f1c-3c32-4018-f7e2-5bafdf06f2d6"
      },
      "execution_count": 75,
      "outputs": [
        {
          "output_type": "stream",
          "name": "stdout",
          "text": [
            "\n",
            "\n",
            "\u001b[1m> Entering new AgentExecutor chain...\u001b[0m\n",
            "\u001b[32;1m\u001b[1;3mI need to perform a division operation.\n",
            "Action: calculator\n",
            "Action Input: 15 / 3\u001b[0m\n",
            "Observation: \u001b[36;1m\u001b[1;3m5.0\u001b[0m\n",
            "Thought:\u001b[32;1m\u001b[1;3mI now know the final answer\n",
            "Final Answer: 5.0\u001b[0m\n",
            "\n",
            "\u001b[1m> Finished chain.\u001b[0m\n",
            "5.0\n"
          ]
        }
      ]
    },
    {
      "cell_type": "markdown",
      "source": [],
      "metadata": {
        "id": "jF9LbRqzEYjl"
      }
    },
    {
      "cell_type": "code",
      "source": [
        "user_input = \"hi\"\n",
        "response = agent.run(user_input)\n",
        "print(response)\n"
      ],
      "metadata": {
        "colab": {
          "base_uri": "https://localhost:8080/"
        },
        "id": "QHKlqZevzA1f",
        "outputId": "8ae7db4b-17d9-4bd8-acc9-1a8aae6103f3"
      },
      "execution_count": 76,
      "outputs": [
        {
          "output_type": "stream",
          "name": "stdout",
          "text": [
            "\n",
            "\n",
            "\u001b[1m> Entering new AgentExecutor chain...\u001b[0m\n",
            "\u001b[32;1m\u001b[1;3mI should respond to the greeting.\n",
            "Action: reply\n",
            "Action Input: Hello!\u001b[0m\n",
            "Observation: \u001b[33;1m\u001b[1;3mklzg\u001b[0m\n",
            "Thought:\u001b[32;1m\u001b[1;3mI now know the final answer\n",
            "Final Answer: Hello!\u001b[0m\n",
            "\n",
            "\u001b[1m> Finished chain.\u001b[0m\n",
            "Hello!\n"
          ]
        }
      ]
    }
  ]
}